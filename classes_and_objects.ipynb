{
  "nbformat": 4,
  "nbformat_minor": 0,
  "metadata": {
    "colab": {
      "provenance": [],
      "include_colab_link": true
    },
    "kernelspec": {
      "name": "python3",
      "display_name": "Python 3"
    },
    "language_info": {
      "name": "python"
    }
  },
  "cells": [
    {
      "cell_type": "markdown",
      "metadata": {
        "id": "view-in-github",
        "colab_type": "text"
      },
      "source": [
        "<a href=\"https://colab.research.google.com/github/sanjeevvarma009/fgh/blob/main/classes_and_objects.ipynb\" target=\"_parent\"><img src=\"https://colab.research.google.com/assets/colab-badge.svg\" alt=\"Open In Colab\"/></a>"
      ]
    },
    {
      "cell_type": "markdown",
      "source": [
        "#20-05-2025"
      ],
      "metadata": {
        "id": "x0JyYMr9bByK"
      }
    },
    {
      "cell_type": "code",
      "execution_count": null,
      "metadata": {
        "id": "p9y3BYjlaywV"
      },
      "outputs": [],
      "source": [
        "#what is class?\n",
        "#blue print of object\n",
        "#what is an object?\n",
        "#instence of a class is known as object"
      ]
    },
    {
      "cell_type": "code",
      "source": [
        "#what are the four pillars of the oop's concept?\n",
        "#1.polymorphism\n",
        "#2.encapsulation\n",
        "#3.inheretence\n",
        "#4.abstraction"
      ],
      "metadata": {
        "id": "GrtliOJ1bi3O"
      },
      "execution_count": null,
      "outputs": []
    },
    {
      "cell_type": "code",
      "source": [
        "# customer1 = ()\n",
        "# 1.def def_welcome()\n",
        "# 2.def check_balnce()\n",
        "# 3.def deposit()\n",
        "# 4.def withdraw()"
      ],
      "metadata": {
        "id": "d8czcihZb3BZ"
      },
      "execution_count": null,
      "outputs": []
    },
    {
      "cell_type": "code",
      "source": [
        "#How can we create a class?\n",
        "class customer():\n",
        "  #create class attributes\n",
        "  Bank_Name = \"HFC Bank\"\n",
        "  IFSC = \"HFC0008762\"\n",
        "  Branch = \"Ameerpet\"\n",
        "  city  = \"HYD\"\n",
        "  State = \"TS\"\n",
        "\n",
        "  #intialize the object attributes\n",
        "  def __init__(self,Name,accno,intial_balance,phone):\n",
        "    self.Name = Name\n",
        "    self.accno = accno\n",
        "    self.intial_balance = intial_balance\n",
        "    self.phone = phone\n",
        "  def welcome(self):\n",
        "    print(f\"Hello {self.Name} ! welcome to HFC Bank\")\n",
        "  def check_balance(self):\n",
        "    print(f\"Your current balace is {self.intial_balance}/- rupees only\")\n",
        "  def deposit(self,amount):\n",
        "    self.intial_balance += amount\n",
        "    print(f\"\"\"Transaction is completed.\n",
        "    {amount} has been credited to your account.\n",
        "    Updated balance is {self.intial_balance}\"\"\")\n",
        "  def withdraw(self,amount):\n",
        "    if amount<= self.intial_balance:\n",
        "       self.intial_balance -= amount\n",
        "       print(f\"\"\"Transaction is completed.\n",
        "    {amount} has been credited to your account.\n",
        "    Updated balance is {self.intial_balance}\"\"\")\n",
        "    else:\n",
        "      print('insufficient funds')\n",
        "#create object\n",
        "c1 = customer('shahul',532356243,10000,893932736)\n",
        "#access the class attributes\n",
        "c1.IFSC\n",
        "c1.Branch\n",
        "#access the object attributes\n",
        "c1.accno\n",
        "c1.intial_balance\n",
        "#access the method\n",
        "# c1.welcome()\n",
        "# c1.check_balance()\n",
        "# c1.deposit(25000)\n",
        "c1.withdraw(7000)"
      ],
      "metadata": {
        "colab": {
          "base_uri": "https://localhost:8080/"
        },
        "id": "NVuLT_AKc6BL",
        "outputId": "72eb50f0-b6b1-4169-fc52-5815adf1f160"
      },
      "execution_count": null,
      "outputs": [
        {
          "output_type": "stream",
          "name": "stdout",
          "text": [
            "Transaction is completed. \n",
            "    7000 has been credited to your account.\n",
            "    Updated balance is 3000\n"
          ]
        }
      ]
    },
    {
      "cell_type": "code",
      "source": [
        "#How many types of attributes do we have in python?\n",
        "#There are 2 types\n",
        "#1.class attribute:- sharable properties or data (common data)\n",
        "#2.object attribute:- unique properties which shared with specific object\n",
        "\n",
        "#How can we create an object attributes?\n",
        "#before creating the object attributes we need initialize  the object attributes inside the class\n",
        "#what is a method?\n",
        "#method is a function created inside the class"
      ],
      "metadata": {
        "id": "i_laV5qUeJXi"
      },
      "execution_count": null,
      "outputs": []
    },
    {
      "cell_type": "code",
      "source": [
        "#create a login and registration page  where\n",
        "#1.check the user is giving valid email or not\n",
        "#2.password has to be more then 6 characters where it should have \"special character, number, uppercase\"\n",
        "#3.use the file handling method to store all the user information\n",
        "#4.if the user forget password--> retrive the password if the user email exist\n",
        "#5.evaluation can be done checking registration,login, password pattern match, retrive password\n",
        "#6.--> save the file in github and share link  --> readme, streamlit"
      ],
      "metadata": {
        "id": "KIepyBpnk36L"
      },
      "execution_count": null,
      "outputs": []
    },
    {
      "cell_type": "markdown",
      "source": [
        "**file handling**"
      ],
      "metadata": {
        "id": "k8y3WMV3mykA"
      }
    },
    {
      "cell_type": "code",
      "source": [
        "#what is file handling?\n",
        "#handling a file except python--> pdf,json,xcel,csv...ect\n",
        "#to handle this file in python we have an inbuilt function--> open()\n",
        "#There are 4 modes in the file handling--> r,w,a,x"
      ],
      "metadata": {
        "id": "9aE5UdCym0s0"
      },
      "execution_count": null,
      "outputs": []
    },
    {
      "cell_type": "code",
      "source": [
        "#creat a file trail.txt by using python file handling\n",
        "#exceution mode--> x-mode is ude to create afile\n",
        "f = open('trail.txt','x')\n",
        "print(f)"
      ],
      "metadata": {
        "colab": {
          "base_uri": "https://localhost:8080/"
        },
        "id": "DmsXIOwYndSZ",
        "outputId": "5edb628b-810e-4421-c8e2-df75824c2408"
      },
      "execution_count": null,
      "outputs": [
        {
          "output_type": "stream",
          "name": "stdout",
          "text": [
            "<_io.TextIOWrapper name='trail.txt' mode='x' encoding='utf-8'>\n"
          ]
        }
      ]
    },
    {
      "cell_type": "code",
      "source": [
        "#overwrite mode-->w-mode\n",
        "f = open('trail.txt','w')\n",
        "f.write('hello i am using file handling write mode')\n",
        "f.close()"
      ],
      "metadata": {
        "id": "eTd3orcjoBlV"
      },
      "execution_count": null,
      "outputs": []
    },
    {
      "cell_type": "code",
      "source": [
        "#append a-mode\n",
        "f = open('trail.txt','a')\n",
        "f.write('.i am using append mode to add extra content')\n",
        "f.close()"
      ],
      "metadata": {
        "id": "Q-K-5j4LoY9P"
      },
      "execution_count": null,
      "outputs": []
    },
    {
      "cell_type": "code",
      "source": [
        "#read mode- (r-mode)\n",
        "#by default the open() is in read mode\n",
        "f = open('trail.txt','r')\n",
        "print(f.read())\n",
        "f.close()"
      ],
      "metadata": {
        "colab": {
          "base_uri": "https://localhost:8080/"
        },
        "id": "urzERccgo9_N",
        "outputId": "424f3040-d23e-4d2f-af9e-031c613814fe"
      },
      "execution_count": null,
      "outputs": [
        {
          "output_type": "stream",
          "name": "stdout",
          "text": [
            "hello i am using file handling write mode.i am using append mode to add extra content\n"
          ]
        }
      ]
    },
    {
      "cell_type": "markdown",
      "source": [],
      "metadata": {
        "id": "3mCJymkipz0H"
      }
    },
    {
      "cell_type": "code",
      "source": [
        "#iterators\n",
        "#pickling\n",
        "#regular expresion\n",
        "#handling the xcel file\n",
        "\n"
      ],
      "metadata": {
        "id": "ZMLpBpx1pTWQ"
      },
      "execution_count": null,
      "outputs": []
    },
    {
      "cell_type": "markdown",
      "source": [
        "#21-05-2025"
      ],
      "metadata": {
        "id": "LwrjTrLtlkuE"
      }
    },
    {
      "cell_type": "markdown",
      "source": [
        "**Regular expressions**"
      ],
      "metadata": {
        "id": "tihygZIfluHG"
      }
    },
    {
      "cell_type": "code",
      "source": [
        "#what is regular expression?\n",
        "#also known as Regex\n",
        "#Regex is sequence of characters that defines a search pattern\n",
        "#used for string searching, matching, replacing, and validating."
      ],
      "metadata": {
        "id": "TqKOW1bNl2Zz"
      },
      "execution_count": null,
      "outputs": []
    },
    {
      "cell_type": "code",
      "source": [
        "#import regular expression\n",
        "import re\n",
        "txt = \"The rain in Hyderabad\"\n",
        "#search \"rain\" is present in above string or not\n",
        "print(re.search(\"rain\",txt))"
      ],
      "metadata": {
        "colab": {
          "base_uri": "https://localhost:8080/"
        },
        "id": "A0EolDFzmg6P",
        "outputId": "1e0fc721-9025-4f7d-d3f9-7d7501e19868"
      },
      "execution_count": null,
      "outputs": [
        {
          "output_type": "stream",
          "name": "stdout",
          "text": [
            "<re.Match object; span=(4, 8), match='rain'>\n"
          ]
        }
      ]
    },
    {
      "cell_type": "code",
      "source": [
        "#RegEx function:-\n",
        "#1.findall():- returns the list containing all matches\n",
        "#2.search():- returns the index position of 1st occurence\n",
        "#3.split():- returns a list where the string has been split\n",
        "#4.sub():- replace one or many matches"
      ],
      "metadata": {
        "id": "8GE_89tqnBvY"
      },
      "execution_count": null,
      "outputs": []
    },
    {
      "cell_type": "code",
      "source": [
        "#Basic syntax of RegEx\n",
        "\"\"\" 1. dot(.)--> any character\n",
        "    2. ^ --> start of string\n",
        "    3. $ --> end of the string\n",
        "    4. * --> 0 or more repeating elements\n",
        "    5. + --> 1 or more repeats\n",
        "    6. ? --> 0 or 1\n",
        "    7.{n} --> extactly n times --> s{3}---> sss\n",
        "    8.{n,}-->at least n time  ---> p{6,}\n",
        "    9.{n,m}--> between the n and m times--> p{6,16}\n",
        "    10.[]-->set of characters-->[a-z]"
      ],
      "metadata": {
        "id": "Ewwft78JoPYD"
      },
      "execution_count": null,
      "outputs": []
    },
    {
      "cell_type": "code",
      "source": [
        "#find all the numbers in astring\n",
        "text = \"The prices for mangos are 45,89,90 and 120 rupees\"\n",
        "#common patterns in RegEx--> \\d--> digits[0-9]\n",
        "num = re.findall(r'\\d+',text)\n",
        "print(num)"
      ],
      "metadata": {
        "colab": {
          "base_uri": "https://localhost:8080/"
        },
        "id": "7HshB15QpvRt",
        "outputId": "a44030ba-ff40-4a37-e15f-59642ced3659"
      },
      "execution_count": null,
      "outputs": [
        {
          "output_type": "stream",
          "name": "stdout",
          "text": [
            "['45', '89', '90', '120']\n"
          ]
        }
      ]
    },
    {
      "cell_type": "code",
      "source": [
        "#validate an email?\n",
        "email = \"shaikshahul321@gmail.com\"\n",
        "pattern = r'^[a-zA-Z0-9]+@[a-z]+\\.[a-z]{2,}$'  #commonpatter-->\\w+-->(a-z,A-Z,0-9)\n",
        "if re.match(pattern,email):\n",
        "  print('valid mail')\n",
        "else:\n",
        "  print('invalid email')"
      ],
      "metadata": {
        "colab": {
          "base_uri": "https://localhost:8080/"
        },
        "id": "HC0vu_sDqZY5",
        "outputId": "16a4f3f6-2f75-4680-bc74-a624bf1258ea"
      },
      "execution_count": null,
      "outputs": [
        {
          "output_type": "stream",
          "name": "stdout",
          "text": [
            "valid mail\n"
          ]
        }
      ]
    },
    {
      "cell_type": "code",
      "source": [
        "#extract the words having special characters--> #\n",
        "text = \"I like #python and #AI\"\n",
        "hashtag = re.findall(r'#\\w+',text)\n",
        "print(hashtag)"
      ],
      "metadata": {
        "colab": {
          "base_uri": "https://localhost:8080/"
        },
        "id": "B0R6Oso7tgq4",
        "outputId": "9264f623-58d5-48d5-adda-58f8166c55cd"
      },
      "execution_count": null,
      "outputs": [
        {
          "output_type": "stream",
          "name": "stdout",
          "text": [
            "['#python', '#AI']\n"
          ]
        }
      ]
    },
    {
      "cell_type": "code",
      "source": [
        "#replace the date format\n",
        "#(dd/mm/yyyy) --> (yyyy-mm-dd)\n",
        "text = \"Today is 21-05-2025\"\n",
        "new = re.sub(r'(\\d{2})-(\\d{2})-(\\d{4})', r'\\3-\\2-\\1',text)\n",
        "print(new)"
      ],
      "metadata": {
        "colab": {
          "base_uri": "https://localhost:8080/"
        },
        "id": "CGn-PVlHubN0",
        "outputId": "563d034d-e52c-4c61-9831-2d96817b0646"
      },
      "execution_count": null,
      "outputs": [
        {
          "output_type": "stream",
          "name": "stdout",
          "text": [
            "Today is 2025-05-21\n"
          ]
        }
      ]
    },
    {
      "cell_type": "markdown",
      "source": [
        "**Iterators**"
      ],
      "metadata": {
        "id": "ox8Wnu4gwd01"
      }
    },
    {
      "cell_type": "code",
      "source": [
        "#what is iterators?\n",
        "#iterator breaks large amount data into tiny chunks\n",
        "l = ['apple','banana','watermelon','blueberry']\n",
        "for i in l:\n",
        "  print(i)\n"
      ],
      "metadata": {
        "colab": {
          "base_uri": "https://localhost:8080/"
        },
        "id": "5laF3qq7wgTc",
        "outputId": "d08f8d24-9009-4fb8-fbeb-7c48ce0d6b20"
      },
      "execution_count": null,
      "outputs": [
        {
          "output_type": "stream",
          "name": "stdout",
          "text": [
            "apple\n",
            "banana\n",
            "watermelon\n",
            "blueberry\n"
          ]
        }
      ]
    },
    {
      "cell_type": "code",
      "source": [
        "#How this iterators can be built?\n",
        "#iterators built based two protocols\n",
        "#1. __iter__\n",
        "#2. __next__"
      ],
      "metadata": {
        "id": "mYdyeWxnxD6i"
      },
      "execution_count": null,
      "outputs": []
    },
    {
      "cell_type": "code",
      "source": [
        "l = ['apple','banana','watermelon','blueberry']\n",
        "i = iter(l)\n",
        "print(next(i))\n",
        "print(next(i))\n",
        "print(next(i))\n",
        "print(next(i))\n",
        "print(next(i))"
      ],
      "metadata": {
        "id": "XOO35tH7xQQa"
      },
      "execution_count": null,
      "outputs": []
    },
    {
      "cell_type": "markdown",
      "source": [
        "**Pickling**"
      ],
      "metadata": {
        "id": "TVG2RPhrxqxc"
      }
    },
    {
      "cell_type": "code",
      "source": [
        "#what is pickling?\n",
        "\"\"\"The process of converting 2D data in to 1D and again converting 1D(.) data in to 2D(---) data\n",
        "is known as pickling\n",
        "#The process of serialization and deserialisation is known as pickling\n",
        "#we are converting the data in the form of bytes\"\"\""
      ],
      "metadata": {
        "id": "Q53BVkUaxcxt"
      },
      "execution_count": null,
      "outputs": []
    },
    {
      "cell_type": "code",
      "source": [
        "import pickle\n",
        "data = {\n",
        "    'name':'jhon',\n",
        "    'age':29,\n",
        "    'city':'Newyork'\n",
        "}\n",
        "with open(\"ex_pickle\",\"wb\") as file:  #wb means write ninary\n",
        "  pickle.dump(data,file)\n",
        "  print(\"The data has pickled and saved in ex_pickle\")\n"
      ],
      "metadata": {
        "colab": {
          "base_uri": "https://localhost:8080/"
        },
        "id": "RzXiNJUdysHT",
        "outputId": "013ff613-9716-43ca-e792-543a5fb277cb"
      },
      "execution_count": null,
      "outputs": [
        {
          "output_type": "stream",
          "name": "stdout",
          "text": [
            "The data has pickled and saved in ex_pickle\n"
          ]
        }
      ]
    },
    {
      "cell_type": "code",
      "source": [
        "#deserialisation\n",
        "with open('ex_pickle','rb') as file:\n",
        "  loaded_data = pickle.load(file)\n",
        "  print(\"The data hasbeen unpickled\")\n",
        "  print(loaded_data)"
      ],
      "metadata": {
        "colab": {
          "base_uri": "https://localhost:8080/"
        },
        "id": "cGmSKfGx0LL1",
        "outputId": "9d86800f-bd48-4051-d16c-67c4ec49abc2"
      },
      "execution_count": null,
      "outputs": [
        {
          "output_type": "stream",
          "name": "stdout",
          "text": [
            "The data hasbeen unpickled\n",
            "{'name': 'jhon', 'age': 29, 'city': 'Newyork'}\n"
          ]
        }
      ]
    },
    {
      "cell_type": "code",
      "source": [
        "#my_sql_connector"
      ],
      "metadata": {
        "id": "vgTltaQg1I3D"
      },
      "execution_count": null,
      "outputs": []
    }
  ]
}